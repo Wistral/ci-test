{
  "nbformat": 4,
  "nbformat_minor": 0,
  "metadata": {
    "colab": {
      "name": "外部数据：本地文件、Google 云端硬盘、Google 表格和 Cloud Storage",
      "provenance": [],
      "collapsed_sections": [],
      "toc_visible": true,
      "include_colab_link": true
    },
    "kernelspec": {
      "display_name": "Python 3",
      "name": "python3"
    }
  },
  "cells": [
    {
      "cell_type": "markdown",
      "metadata": {
        "id": "view-in-github",
        "colab_type": "text"
      },
      "source": [
        "<a href=\"https://colab.research.google.com/github/Wistral/ci-test/blob/master/Google_%E4%BA%91%E7%AB%AF%E7%A1%AC%E7%9B%98demo.ipynb\" target=\"_parent\"><img src=\"https://colab.research.google.com/assets/colab-badge.svg\" alt=\"Open In Colab\"/></a>"
      ]
    },
    {
      "cell_type": "markdown",
      "metadata": {
        "colab_type": "text",
        "id": "7Z2jcRKwUHqV"
      },
      "source": [
        "此笔记本提供了用于加载和保存外部来源中的数据的方法。"
      ]
    },
    {
      "cell_type": "markdown",
      "metadata": {
        "colab_type": "text",
        "id": "eikfzi8ZT_rW"
      },
      "source": [
        "# 本地文件系统"
      ]
    },
    {
      "cell_type": "markdown",
      "metadata": {
        "colab_type": "text",
        "id": "BaCkyg5CV5jF"
      },
      "source": [
        "## 从本地文件系统上传文件\n",
        "\n",
        "<code>files.upload</code> 会返回已上传文件的字典。\n",
        "此字典的键为文件名，值为已上传的数据。"
      ]
    },
    {
      "cell_type": "code",
      "metadata": {
        "colab_type": "code",
        "id": "vz-jH8T_Uk2c",
        "colab": {}
      },
      "source": [
        "from google.colab import files\n",
        "\n",
        "uploaded = files.upload()\n",
        "\n",
        "for fn in uploaded.keys():\n",
        "  print('User uploaded file \"{name}\" with length {length} bytes'.format(\n",
        "      name=fn, length=len(uploaded[fn])))"
      ],
      "execution_count": 0,
      "outputs": []
    },
    {
      "cell_type": "markdown",
      "metadata": {
        "colab_type": "text",
        "id": "hauvGV4hV-Mh"
      },
      "source": [
        "## 将文件下载到本地文件系统\n",
        "\n",
        "<code>files.download</code> 会通过浏览器将文件下载到本地计算机。\n"
      ]
    },
    {
      "cell_type": "code",
      "metadata": {
        "colab_type": "code",
        "id": "p2E4EKhCWEC5",
        "colab": {}
      },
      "source": [
        "from google.colab import files\n",
        "\n",
        "with open('example.txt', 'w') as f:\n",
        "  f.write('some content')\n",
        "\n",
        "files.download('example.txt')"
      ],
      "execution_count": 0,
      "outputs": []
    },
    {
      "cell_type": "markdown",
      "metadata": {
        "colab_type": "text",
        "id": "c2W5A2px3doP"
      },
      "source": [
        "# Google 云端硬盘\n",
        "\n",
        "您可以通过多种方式访问 Google 云端硬盘中的文件，其中包括：\n",
        "- 在运行时的虚拟机中装载 Google 云端硬盘\n",
        "- 对 Drive API 使用封装容器（例如 <a href=\"https://gsuitedevs.github.io/PyDrive/docs/build/html/index.html\">PyDrive</a>）\n",
        "- 使用<a href=\"https://developers.google.com/drive/v3/web/about-sdk\">原生 REST API</a>\n",
        "\n",
        "\n",
        "\n",
        "每个方法的示例如下所示。"
      ]
    },
    {
      "cell_type": "markdown",
      "metadata": {
        "colab_type": "text",
        "id": "u22w3BFiOveA"
      },
      "source": [
        "## 在本地装载 Google 云端硬盘\n",
        "\n",
        "以下示例展示了如何使用授权代码在您的运行时上装载 Google 云端硬盘，以及如何在那里写入和读取文件。一旦执行，您便可以在 <a href=\"https://drive.google.com/\">https://drive.google.com/</a> 看到相应的新文件 &#40;<code>foo.txt</code>&#41;。\n",
        "\n",
        "请注意，此操作仅支持读取、写入和移动文件；要程序化地修改共享设置或其他元数据，请使用以下某一其他选项。"
      ]
    },
    {
      "cell_type": "code",
      "metadata": {
        "colab_type": "code",
        "id": "RWSJpsyKqHjH",
        "outputId": "ecfbcea2-8c99-4175-a1fd-c9915e46b5f4",
        "colab": {
          "base_uri": "https://localhost:8080/",
          "height": 34
        }
      },
      "source": [
        "from google.colab import drive\n",
        "drive.mount('/content/drive')"
      ],
      "execution_count": 17,
      "outputs": [
        {
          "output_type": "stream",
          "text": [
            "Drive already mounted at /content/drive; to attempt to forcibly remount, call drive.mount(\"/content/drive\", force_remount=True).\n"
          ],
          "name": "stdout"
        }
      ]
    },
    {
      "cell_type": "code",
      "metadata": {
        "colab_type": "code",
        "id": "XDg9OBaYqRMd",
        "outputId": "57818fa4-c88d-4e9b-b95b-183e1f2be5a2",
        "colab": {
          "base_uri": "https://localhost:8080/",
          "height": 70
        }
      },
      "source": [
        "!ls drive/My\\ Drive"
      ],
      "execution_count": 13,
      "outputs": [
        {
          "output_type": "stream",
          "text": [
            "'Colab Notebooks'   train_part0.tfrecord\n",
            " images.npz\t    数学建模竞赛中、英文献检索方法与技巧.pdf\n",
            " labels.npz\n"
          ],
          "name": "stdout"
        }
      ]
    },
    {
      "cell_type": "code",
      "metadata": {
        "id": "zD5SRSL39aOy",
        "colab_type": "code",
        "colab": {
          "base_uri": "https://localhost:8080/",
          "height": 202
        },
        "outputId": "91d91776-c55e-46dc-d373-02fa96d21cc9"
      },
      "source": [
        "import numpy as np\n",
        "labels = np.load('drive/My Drive/labels.npz')\n",
        "images = np.load('drive/My Drive/images.npz')\n"
      ],
      "execution_count": 15,
      "outputs": [
        {
          "output_type": "error",
          "ename": "NameError",
          "evalue": "ignored",
          "traceback": [
            "\u001b[0;31m---------------------------------------------------------------------------\u001b[0m",
            "\u001b[0;31mNameError\u001b[0m                                 Traceback (most recent call last)",
            "\u001b[0;32m<ipython-input-15-90c0a6a139cc>\u001b[0m in \u001b[0;36m<module>\u001b[0;34m()\u001b[0m\n\u001b[1;32m      2\u001b[0m \u001b[0mlabels\u001b[0m \u001b[0;34m=\u001b[0m \u001b[0mnp\u001b[0m\u001b[0;34m.\u001b[0m\u001b[0mload\u001b[0m\u001b[0;34m(\u001b[0m\u001b[0;34m'drive/My Drive/labels.npz'\u001b[0m\u001b[0;34m)\u001b[0m\u001b[0;34m\u001b[0m\u001b[0;34m\u001b[0m\u001b[0m\n\u001b[1;32m      3\u001b[0m \u001b[0mimages\u001b[0m \u001b[0;34m=\u001b[0m \u001b[0mnp\u001b[0m\u001b[0;34m.\u001b[0m\u001b[0mload\u001b[0m\u001b[0;34m(\u001b[0m\u001b[0;34m'drive/My Drive/images.npz'\u001b[0m\u001b[0;34m)\u001b[0m\u001b[0;34m\u001b[0m\u001b[0;34m\u001b[0m\u001b[0m\n\u001b[0;32m----> 4\u001b[0;31m \u001b[0mprint\u001b[0m\u001b[0;34m(\u001b[0m\u001b[0mlen\u001b[0m\u001b[0;34m(\u001b[0m\u001b[0mlabels\u001b[0m\u001b[0;34m)\u001b[0m\u001b[0;34m,\u001b[0m\u001b[0mleb\u001b[0m\u001b[0;34m(\u001b[0m\u001b[0mimages\u001b[0m\u001b[0;34m)\u001b[0m\u001b[0;34m)\u001b[0m\u001b[0;34m\u001b[0m\u001b[0;34m\u001b[0m\u001b[0m\n\u001b[0m",
            "\u001b[0;31mNameError\u001b[0m: name 'leb' is not defined"
          ]
        }
      ]
    },
    {
      "cell_type": "code",
      "metadata": {
        "id": "IGs5kgfE97RJ",
        "colab_type": "code",
        "colab": {
          "base_uri": "https://localhost:8080/",
          "height": 34
        },
        "outputId": "2c16ad68-e52e-4eb5-bf5f-1bca0b347463"
      },
      "source": [
        "print(len(labels),len(images))\n",
        "import matplotlib.pyplot as plt\n",
        "\n",
        "char_map = {\n",
        "    i: e\n",
        "    for i,e in enumerate([\"Reimu\", \"Marisa\", \"Koishi\",\n",
        "         \"Remilia\", \"Sakuya\", \"Cirno\", \"Clownpiece\", \"Flandre\", \"Patchouli\",\n",
        "           \"Yuyuko\", \"Hina\", \"Kaguya\", \"Yukari\", \"Yuuka\", \"Eirin\", \"Kogasa\", \"Youmu\", \"Sanae\",\n",
        "           \"Utsuho\", \"Satori\"])\n",
        "}"
      ],
      "execution_count": 22,
      "outputs": [
        {
          "output_type": "stream",
          "text": [
            "2997 2997\n"
          ],
          "name": "stdout"
        }
      ]
    },
    {
      "cell_type": "code",
      "metadata": {
        "id": "LHbT-NqS_vPa",
        "colab_type": "code",
        "colab": {
          "base_uri": "https://localhost:8080/",
          "height": 286
        },
        "outputId": "9a21e3e2-5f78-4e90-e29b-fe5e9055f991"
      },
      "source": [
        "import random\n",
        "\n",
        "\n",
        "def show_im_by_index(i):\n",
        "  print(char_map[labels[i]])\n",
        "  plt.imshow(images[i])\n",
        "\n",
        "show_im_by_index(random.randint(0,2997))"
      ],
      "execution_count": 32,
      "outputs": [
        {
          "output_type": "stream",
          "text": [
            "Eirin\n"
          ],
          "name": "stdout"
        },
        {
          "output_type": "display_data",
          "data": {
            "image/png": "[encoded data removed]",
            "text/plain": [
              "<Figure size 432x288 with 1 Axes>"
            ]
          },
          "metadata": {
            "tags": []
          }
        }
      ]
    },
    {
      "cell_type": "code",
      "metadata": {
        "colab_type": "code",
        "id": "D78AM1fFt2ty",
        "outputId": "f7117bc5-2ffd-4c0a-8809-f9fed79b4682",
        "colab": {
          "base_uri": "https://localhost:8080/",
          "height": 34
        }
      },
      "source": [
        "drive.flush_and_unmount()\n",
        "print('All changes made in this colab session should now be visible in Drive.')"
      ],
      "execution_count": 0,
      "outputs": [
        {
          "output_type": "stream",
          "text": [
            "All changes made in this colab session should now be visible in Drive.\n"
          ],
          "name": "stdout"
        }
      ]
    },
    {
      "cell_type": "code",
      "metadata": {
        "id": "s8qPlRQtAp0B",
        "colab_type": "code",
        "colab": {
          "base_uri": "https://localhost:8080/",
          "height": 34
        },
        "outputId": "0da21dc4-e07a-46c0-f71f-8db4e8663fa2"
      },
      "source": [
        "# !apt update\n",
        "# !apt install htop\n",
        "import tensorflow as tf\n",
        "tf.__version__\n",
        "print(tf.test.is_built_with_cuda(),\n",
        "  tf.test.is_gpu_available())\n"
      ],
      "execution_count": 42,
      "outputs": [
        {
          "output_type": "stream",
          "text": [
            "True False\n"
          ],
          "name": "stdout"
        }
      ]
    },
    {
      "cell_type": "markdown",
      "metadata": {
        "colab_type": "text",
        "id": "jRQ5_yMcqJiV"
      },
      "source": [
        "## Drive REST API\n",
        "\n",
        "要使用 Drive API，我们必须先进行身份验证，然后构建 API 客户端。\n"
      ]
    },
    {
      "cell_type": "code",
      "metadata": {
        "colab_type": "code",
        "id": "r-exJtdG3XwJ",
        "colab": {}
      },
      "source": [
        "from google.colab import auth\n",
        "auth.authenticate_user()\n",
        "from googleapiclient.discovery import build\n",
        "drive_service = build('drive', 'v3')"
      ],
      "execution_count": 0,
      "outputs": []
    },
    {
      "cell_type": "markdown",
      "metadata": {
        "colab_type": "text",
        "id": "eDLm7MHQEr2U"
      },
      "source": [
        "借助此客户端，我们可以使用 <a href=\"https://developers.google.com/drive/v3/reference/\">Google Drive API 参考文档</a>中列出的任何函数。后面有示例。\n"
      ]
    },
    {
      "cell_type": "markdown",
      "metadata": {
        "colab_type": "text",
        "id": "bRFyEsdfBxJ9"
      },
      "source": [
        "### 使用来自 Python 的数据创建新的 Google 云端硬盘文件\n",
        "\n",
        "首先，创建要上传的本地文件。"
      ]
    },
    {
      "cell_type": "code",
      "metadata": {
        "colab_type": "code",
        "id": "F1-nafvN-NwW",
        "outputId": "4466d27b-edd0-4ef1-8a10-0e180a231af2",
        "colab": {
          "base_uri": "https://localhost:8080/",
          "height": 53
        }
      },
      "source": [
        "with open('/tmp/to_upload.txt', 'w') as f:\n",
        "  f.write('my sample file')\n",
        "\n",
        "print('/tmp/to_upload.txt contains:')\n",
        "!cat /tmp/to_upload.txt"
      ],
      "execution_count": 0,
      "outputs": [
        {
          "output_type": "stream",
          "text": [
            "/tmp/to_upload.txt contains:\n",
            "my sample file"
          ],
          "name": "stdout"
        }
      ]
    },
    {
      "cell_type": "markdown",
      "metadata": {
        "colab_type": "text",
        "id": "r5X77CZ5_G-C"
      },
      "source": [
        "使用 <a href=\"https://developers.google.com/drive/v3/reference/files/create\"><code>files.create</code></a> 方法上传此文件。如需了解文件上传的有关详情，请参阅<a href=\"https://developers.google.com/drive/v3/web/manage-uploads\">开发者文档</a>。"
      ]
    },
    {
      "cell_type": "code",
      "metadata": {
        "colab_type": "code",
        "id": "3Jv6jh6HEpP8",
        "outputId": "cfc1186f-68a1-4620-a18f-99bc6d83e82e",
        "colab": {
          "base_uri": "https://localhost:8080/",
          "height": 35
        }
      },
      "source": [
        "from googleapiclient.http import MediaFileUpload\n",
        "\n",
        "file_metadata = {\n",
        "  'name': 'Sample file',\n",
        "  'mimeType': 'text/plain'\n",
        "}\n",
        "media = MediaFileUpload('/tmp/to_upload.txt', \n",
        "                        mimetype='text/plain',\n",
        "                        resumable=True)\n",
        "created = drive_service.files().create(body=file_metadata,\n",
        "                                       media_body=media,\n",
        "                                       fields='id').execute()\n",
        "print('File ID: {}'.format(created.get('id')))"
      ],
      "execution_count": 0,
      "outputs": [
        {
          "output_type": "stream",
          "text": [
            "File ID: 1Cw9CqiyU6zbXFD9ViPZu_3yX-sYF4W17\n"
          ],
          "name": "stdout"
        }
      ]
    },
    {
      "cell_type": "markdown",
      "metadata": {
        "colab_type": "text",
        "id": "j5VyISCKFrqU"
      },
      "source": [
        "执行上述单元格后，您会在 <a href=\"https://drive.google.com/\">https://drive.google.com/</a> 看到一个名为“Sample file”的新文件。"
      ]
    },
    {
      "cell_type": "markdown",
      "metadata": {
        "colab_type": "text",
        "id": "P3KX0Sm0E2sF"
      },
      "source": [
        "### 从 Google 云端硬盘文件中将数据下载到 Python 中\n",
        "\n",
        "下载我们在前面上传的文件。"
      ]
    },
    {
      "cell_type": "code",
      "metadata": {
        "colab_type": "code",
        "id": "hEzpzWYWsYKg",
        "outputId": "57c1ac51-a8ec-497e-db77-f34fd974ac2f",
        "colab": {
          "base_uri": "https://localhost:8080/",
          "height": 34
        }
      },
      "source": [
        "file_id = created.get('id')\n",
        "\n",
        "import io\n",
        "from googleapiclient.http import MediaIoBaseDownload\n",
        "\n",
        "request = drive_service.files().get_media(fileId=file_id)\n",
        "downloaded = io.BytesIO()\n",
        "downloader = MediaIoBaseDownload(downloaded, request)\n",
        "done = False\n",
        "while done is False:\n",
        "  # _ is a placeholder for a progress object that we ignore.\n",
        "  # (Our file is small, so we skip reporting progress.)\n",
        "  _, done = downloader.next_chunk()\n",
        "\n",
        "downloaded.seek(0)\n",
        "print('Downloaded file contents are: {}'.format(downloaded.read()))"
      ],
      "execution_count": 0,
      "outputs": [
        {
          "output_type": "stream",
          "text": [
            "Downloaded file contents are: b'my sample file'\n"
          ],
          "name": "stdout"
        }
      ]
    },
    {
      "cell_type": "markdown",
      "metadata": {
        "colab_type": "text",
        "id": "ImztleG2Ciae"
      },
      "source": [
        "要下载其他文件，请将上述 <code>file&#95;id</code> 设为此文件的 ID，此 ID 大致如下：1uBtlaggVyWshwcyP6kEI-y&#95;W3P8D26sz。"
      ]
    },
    {
      "cell_type": "markdown",
      "metadata": {
        "colab_type": "text",
        "id": "sOm9PFrT8mGG"
      },
      "source": [
        "# Google 表格\n",
        "\n",
        "以下示例使用开源 <a href=\"https://github.com/burnash/gspread\"><code>gspread</code></a> 库与 Google 表格进行互动。\n",
        "\n",
        "首先，使用 <code>pip</code> 安装软件包。"
      ]
    },
    {
      "cell_type": "code",
      "metadata": {
        "colab_type": "code",
        "id": "Mwu_sWHv4jEo",
        "colab": {}
      },
      "source": [
        "!pip install --upgrade --quiet gspread"
      ],
      "execution_count": 0,
      "outputs": []
    },
    {
      "cell_type": "markdown",
      "metadata": {
        "colab_type": "text",
        "id": "qzi9VsEqzI-o"
      },
      "source": [
        "导入库，进行身份验证，然后创建 Google 表格接口。"
      ]
    },
    {
      "cell_type": "code",
      "metadata": {
        "colab_type": "code",
        "id": "6d0xJz3VzLOo",
        "colab": {}
      },
      "source": [
        "from google.colab import auth\n",
        "auth.authenticate_user()\n",
        "\n",
        "import gspread\n",
        "from oauth2client.client import GoogleCredentials\n",
        "\n",
        "gc = gspread.authorize(GoogleCredentials.get_application_default())"
      ],
      "execution_count": 0,
      "outputs": []
    },
    {
      "cell_type": "markdown",
      "metadata": {
        "colab_type": "text",
        "id": "yjrZQUrt6kKj"
      },
      "source": [
        "以下是一些 <code>gspread</code> 示例。如需查看其他示例，请参阅 <a href=\"https://github.com/burnash/gspread#more-examples\"><code>gspread</code> GitHub 页面</a>。"
      ]
    },
    {
      "cell_type": "markdown",
      "metadata": {
        "colab_type": "text",
        "id": "WgXqE02UofZG"
      },
      "source": [
        "## 正在使用来自 Python 的数据创建新工作表"
      ]
    },
    {
      "cell_type": "code",
      "metadata": {
        "colab_type": "code",
        "id": "tnnYKhGfzGeP",
        "colab": {}
      },
      "source": [
        "sh = gc.create('My cool spreadsheet')"
      ],
      "execution_count": 0,
      "outputs": []
    },
    {
      "cell_type": "markdown",
      "metadata": {
        "colab_type": "text",
        "id": "v9Ia9JVc6Zvk"
      },
      "source": [
        "执行上述单元格后，您会在 <a href=\"https://sheets.google.com/\">https://sheets.google.com</a> 看到一个名为“My cool spreadsheet”的新电子表格。\n",
        "\n",
        "打开新工作表，然后添加一些随机数据。"
      ]
    },
    {
      "cell_type": "code",
      "metadata": {
        "colab_type": "code",
        "id": "ASdgLIt2s-ux",
        "outputId": "68c9eed9-bab9-4169-c5b7-769f7b9e0194",
        "colab": {
          "base_uri": "https://localhost:8080/",
          "height": 102
        }
      },
      "source": [
        "worksheet = gc.open('My cool spreadsheet').sheet1\n",
        "\n",
        "cell_list = worksheet.range('A1:C2')\n",
        "\n",
        "import random\n",
        "for cell in cell_list:\n",
        "  cell.value = random.randint(1, 10)\n",
        "\n",
        "worksheet.update_cells(cell_list)"
      ],
      "execution_count": 0,
      "outputs": [
        {
          "output_type": "execute_result",
          "data": {
            "text/plain": [
              "{'spreadsheetId': '1dsQeN0YzXuM387l_CuyEbsYzL2ew9TJFzR-E-RQnwxs',\n",
              " 'updatedCells': 6,\n",
              " 'updatedColumns': 3,\n",
              " 'updatedRange': 'Sheet1!A1:C2',\n",
              " 'updatedRows': 2}"
            ]
          },
          "metadata": {
            "tags": []
          },
          "execution_count": 0
        }
      ]
    },
    {
      "cell_type": "markdown",
      "metadata": {
        "colab_type": "text",
        "id": "k9q0pp33dckN"
      },
      "source": [
        "## 从工作表中将数据作为 Pandas DataFrame 下载到 Python 代码中\n",
        "\n",
        "读回我们在上面插入的随机数据，然后将结果转换为 <a href=\"https://pandas.pydata.org/pandas-docs/stable/generated/pandas.DataFrame.html\">Pandas DataFrame</a>。"
      ]
    },
    {
      "cell_type": "code",
      "metadata": {
        "colab_type": "code",
        "id": "J4QxBareshEV",
        "outputId": "baf17cd6-3c3d-4a34-b1f9-642516cb2bfe",
        "colab": {
          "base_uri": "https://localhost:8080/",
          "height": 141
        }
      },
      "source": [
        "worksheet = gc.open('My cool spreadsheet').sheet1\n",
        "\n",
        "# get_all_values gives a list of rows.\n",
        "rows = worksheet.get_all_values()\n",
        "print(rows)\n",
        "\n",
        "import pandas as pd\n",
        "pd.DataFrame.from_records(rows)"
      ],
      "execution_count": 0,
      "outputs": [
        {
          "output_type": "stream",
          "text": [
            "[['6', '3', '4'], ['7', '2', '1']]\n"
          ],
          "name": "stdout"
        },
        {
          "output_type": "execute_result",
          "data": {
            "application/vnd.google.colaboratory.module+javascript": "\n      import \"https://ssl.gstatic.com/colaboratory/data_table/81868506e94e6988/data_table.js\";\n\n      window.createDataTable({\n        data: [[{\n            'v': 0,\n            'f': \"0\",\n        },\n\"6\",\n\"3\",\n\"4\"],\n [{\n            'v': 1,\n            'f': \"1\",\n        },\n\"7\",\n\"2\",\n\"1\"]],\n        columns: [[\"number\", \"index\"], [\"string\", \"0\"], [\"string\", \"1\"], [\"string\", \"2\"]],\n        rowsPerPage: 25,\n      });\n    ",
            "text/html": [
              "<div>\n",
              "<style scoped>\n",
              "    .dataframe tbody tr th:only-of-type {\n",
              "        vertical-align: middle;\n",
              "    }\n",
              "\n",
              "    .dataframe tbody tr th {\n",
              "        vertical-align: top;\n",
              "    }\n",
              "\n",
              "    .dataframe thead th {\n",
              "        text-align: right;\n",
              "    }\n",
              "</style>\n",
              "<table border=\"1\" class=\"dataframe\">\n",
              "  <thead>\n",
              "    <tr style=\"text-align: right;\">\n",
              "      <th></th>\n",
              "      <th>0</th>\n",
              "      <th>1</th>\n",
              "      <th>2</th>\n",
              "    </tr>\n",
              "  </thead>\n",
              "  <tbody>\n",
              "    <tr>\n",
              "      <th>0</th>\n",
              "      <td>6</td>\n",
              "      <td>3</td>\n",
              "      <td>4</td>\n",
              "    </tr>\n",
              "    <tr>\n",
              "      <th>1</th>\n",
              "      <td>7</td>\n",
              "      <td>2</td>\n",
              "      <td>1</td>\n",
              "    </tr>\n",
              "  </tbody>\n",
              "</table>\n",
              "</div>"
            ],
            "text/plain": [
              "   0  1  2\n",
              "0  6  3  4\n",
              "1  7  2  1"
            ]
          },
          "metadata": {
            "tags": []
          },
          "execution_count": 0
        }
      ]
    },
    {
      "cell_type": "markdown",
      "metadata": {
        "colab_type": "text",
        "id": "S7c8WYyQdh5i"
      },
      "source": [
        "# Google Cloud Storage &#40;GCS&#41;\n",
        "\n",
        "要将 Colaboratory 与 GCS 结合使用，您需要创建 <a href=\"https://cloud.google.com/storage/docs/projects\">Google Cloud 项目</a>或使用已有项目。\n",
        "\n",
        "在下面指定项目 ID："
      ]
    },
    {
      "cell_type": "code",
      "metadata": {
        "colab_type": "code",
        "id": "VYC5CyAbAtU7",
        "colab": {}
      },
      "source": [
        "project_id = 'Your_project_ID_here'"
      ],
      "execution_count": 0,
      "outputs": []
    },
    {
      "cell_type": "markdown",
      "metadata": {
        "colab_type": "text",
        "id": "5iRYBSVCbAlK"
      },
      "source": [
        "GCS 中的文件包含在<a href=\"https://cloud.google.com/storage/docs/key-terms#buckets\">存储分区</a>中。\n",
        "\n",
        "存储分区的名称必须是全局唯一的，因此我们在此处生成一个。"
      ]
    },
    {
      "cell_type": "code",
      "metadata": {
        "colab_type": "code",
        "id": "JgjL1e0ua-kN",
        "colab": {}
      },
      "source": [
        "import uuid\n",
        "bucket_name = 'colab-sample-bucket-' + str(uuid.uuid1())"
      ],
      "execution_count": 0,
      "outputs": []
    },
    {
      "cell_type": "markdown",
      "metadata": {
        "colab_type": "text",
        "id": "-OtHMRVda9pJ"
      },
      "source": [
        "要访问 GCS，我们必须进行身份验证。"
      ]
    },
    {
      "cell_type": "code",
      "metadata": {
        "colab_type": "code",
        "id": "NQX0hbfYaEKc",
        "colab": {}
      },
      "source": [
        "from google.colab import auth\n",
        "auth.authenticate_user()"
      ],
      "execution_count": 0,
      "outputs": []
    },
    {
      "cell_type": "markdown",
      "metadata": {
        "colab_type": "text",
        "id": "YLPAbDDFaLXU"
      },
      "source": [
        "可通过 <code>gsutil</code> 命令行实用程序或原生 Python API 访问 GCS。"
      ]
    },
    {
      "cell_type": "markdown",
      "metadata": {
        "colab_type": "text",
        "id": "TvuZEyRQXmyS"
      },
      "source": [
        "## `gsutil`\n",
        "\n",
        "首先，我们通过使用 <code>gcloud</code> 将 <code>gsutil</code> 配置为使用我们在上面指定的项目。"
      ]
    },
    {
      "cell_type": "code",
      "metadata": {
        "colab_type": "code",
        "id": "TpnuFITI6Tzu",
        "outputId": "04f1dd6d-4d7e-4264-b37b-1e8f645d6d38",
        "colab": {
          "base_uri": "https://localhost:8080/",
          "height": 35
        }
      },
      "source": [
        "!gcloud config set project {project_id}"
      ],
      "execution_count": 0,
      "outputs": [
        {
          "output_type": "stream",
          "text": [
            "Updated property [core/project].\r\n"
          ],
          "name": "stdout"
        }
      ]
    },
    {
      "cell_type": "markdown",
      "metadata": {
        "colab_type": "text",
        "id": "NAM6vyXAfVUj"
      },
      "source": [
        "创建要上传的本地文件。"
      ]
    },
    {
      "cell_type": "code",
      "metadata": {
        "colab_type": "code",
        "id": "LADpx7LReOMk",
        "outputId": "46db7cfa-9ad8-405b-f715-b466a3b2cb7a",
        "colab": {
          "base_uri": "https://localhost:8080/",
          "height": 53
        }
      },
      "source": [
        "with open('/tmp/to_upload.txt', 'w') as f:\n",
        "  f.write('my sample file')\n",
        "\n",
        "print('/tmp/to_upload.txt contains:')\n",
        "!cat /tmp/to_upload.txt"
      ],
      "execution_count": 0,
      "outputs": [
        {
          "output_type": "stream",
          "text": [
            "/tmp/to_upload.txt contains:\n",
            "my sample file"
          ],
          "name": "stdout"
        }
      ]
    },
    {
      "cell_type": "markdown",
      "metadata": {
        "colab_type": "text",
        "id": "sSz0aInzWXFI"
      },
      "source": [
        "设置一个接收我们上传的文件（<a href=\"https://cloud.google.com/storage/docs/gsutil/commands/mb\">文档</a>）的存储分区。"
      ]
    },
    {
      "cell_type": "code",
      "metadata": {
        "colab_type": "code",
        "id": "Bcpvh_R_6jKB",
        "outputId": "e1c132b8-6a5c-46db-b1fa-f5768089890c",
        "colab": {
          "base_uri": "https://localhost:8080/",
          "height": 35
        }
      },
      "source": [
        "!gsutil mb gs://{bucket_name}"
      ],
      "execution_count": 0,
      "outputs": [
        {
          "output_type": "stream",
          "text": [
            "Creating gs://colab-sample-bucket-44971372-baaf-11e7-ae30-0242ac110002/...\r\n"
          ],
          "name": "stdout"
        }
      ]
    },
    {
      "cell_type": "markdown",
      "metadata": {
        "colab_type": "text",
        "id": "MHPM16gWWNvn"
      },
      "source": [
        "将此文件复制到我们的新存储分区（<a href=\"https://cloud.google.com/storage/docs/gsutil/commands/cp\">文档</a>）。"
      ]
    },
    {
      "cell_type": "code",
      "metadata": {
        "colab_type": "code",
        "id": "L5cMl7XV65be",
        "outputId": "bb51e51d-7f5f-4e2b-935c-203b8d314115",
        "colab": {
          "base_uri": "https://localhost:8080/",
          "height": 92
        }
      },
      "source": [
        "!gsutil cp /tmp/to_upload.txt gs://{bucket_name}/"
      ],
      "execution_count": 0,
      "outputs": [
        {
          "output_type": "stream",
          "text": [
            "Copying file:///tmp/to_upload.txt [Content-Type=text/plain]...\n",
            "/ [1 files][   14.0 B/   14.0 B]                                                \n",
            "Operation completed over 1 objects/14.0 B.                                       \n"
          ],
          "name": "stdout"
        }
      ]
    },
    {
      "cell_type": "markdown",
      "metadata": {
        "colab_type": "text",
        "id": "xAPlMk6nWKNm"
      },
      "source": [
        "转储新复制文件的内容，以确保一切正常（<a href=\"https://cloud.google.com/storage/docs/gsutil/commands/cat\">文档</a>）。\n"
      ]
    },
    {
      "cell_type": "code",
      "metadata": {
        "colab_type": "code",
        "id": "pJGU6gX-7M-N",
        "outputId": "38db2bd3-0879-4a2e-8f41-c9495ba570a9",
        "colab": {
          "base_uri": "https://localhost:8080/",
          "height": 35
        }
      },
      "source": [
        "!gsutil cat gs://{bucket_name}/to_upload.txt"
      ],
      "execution_count": 0,
      "outputs": [
        {
          "output_type": "stream",
          "text": [
            "my sample file"
          ],
          "name": "stdout"
        }
      ]
    },
    {
      "cell_type": "code",
      "metadata": {
        "cellView": "form",
        "colab_type": "code",
        "id": "qoectKiGOABf",
        "outputId": "97b483ac-c2b1-46f0-f4ac-61b3701a8c89",
        "colab": {
          "height": 34
        }
      },
      "source": [
        "#@markdown 上传完毕后，数据将显示在项目的 Cloud Console Storage 浏览器中：\n",
        "print('https://console.cloud.google.com/storage/browser?project=' + project_id)"
      ],
      "execution_count": 0,
      "outputs": [
        {
          "output_type": "stream",
          "text": [
            "https://console.cloud.google.com/storage/browser?project=Your_project_ID_here\n"
          ],
          "name": "stdout"
        }
      ]
    },
    {
      "cell_type": "markdown",
      "metadata": {
        "colab_type": "text",
        "id": "Q2CWQGIghDux"
      },
      "source": [
        "最后，我们将下载刚才在以上示例中上传的文件。此操作就像在 <code>gsutil cp</code> 命令中颠倒顺序一样简单。"
      ]
    },
    {
      "cell_type": "code",
      "metadata": {
        "colab_type": "code",
        "id": "lPdTf-6O73ll",
        "outputId": "a6da299e-00ff-42a7-f845-9a93a4ccce61",
        "colab": {
          "base_uri": "https://localhost:8080/",
          "height": 110
        }
      },
      "source": [
        "!gsutil cp gs://{bucket_name}/to_upload.txt /tmp/gsutil_download.txt\n",
        "  \n",
        "# 输出结果，以确保传输按预期运行。\n",
        "!cat /tmp/gsutil_download.txt"
      ],
      "execution_count": 0,
      "outputs": [
        {
          "output_type": "stream",
          "text": [
            "Copying gs://colab-sample-bucket483f20dc-baaf-11e7-ae30-0242ac110002/to_upload.txt...\n",
            "/ [1 files][   14.0 B/   14.0 B]                                                \n",
            "Operation completed over 1 objects/14.0 B.                                       \n",
            "my sample file"
          ],
          "name": "stdout"
        }
      ]
    },
    {
      "cell_type": "markdown",
      "metadata": {
        "colab_type": "text",
        "id": "0ENMqxq25szn"
      },
      "source": [
        "## Python API\n",
        "\n",
        "这些代码段基于<a href=\"https://github.com/GoogleCloudPlatform/storage-file-transfer-json-python/blob/master/chunked_transfer.py\">一个大型示例</a>，该示例展示了 API 的其他用途。\n",
        "\n",
        "首先，我们创建服务客户端。"
      ]
    },
    {
      "cell_type": "code",
      "metadata": {
        "colab_type": "code",
        "id": "wkJ5ShIgceqI",
        "colab": {}
      },
      "source": [
        "from googleapiclient.discovery import build\n",
        "gcs_service = build('storage', 'v1')"
      ],
      "execution_count": 0,
      "outputs": []
    },
    {
      "cell_type": "markdown",
      "metadata": {
        "colab_type": "text",
        "id": "R1Hyoh07gQHY"
      },
      "source": [
        "创建要上传的本地文件。"
      ]
    },
    {
      "cell_type": "code",
      "metadata": {
        "colab_type": "code",
        "id": "s1htTNVlgQHe",
        "outputId": "1a002b58-6c4d-46d0-9572-a43b9bccbfe8",
        "colab": {
          "height": 51
        }
      },
      "source": [
        "with open('/tmp/to_upload.txt', 'w') as f:\n",
        "  f.write('my sample file')\n",
        "\n",
        "print('/tmp/to_upload.txt contains:')\n",
        "!cat /tmp/to_upload.txt"
      ],
      "execution_count": 0,
      "outputs": [
        {
          "output_type": "stream",
          "text": [
            "/tmp/to_upload.txt contains:\n",
            "my sample file"
          ],
          "name": "stdout"
        }
      ]
    },
    {
      "cell_type": "markdown",
      "metadata": {
        "colab_type": "text",
        "id": "YJKBHaUlgDhl"
      },
      "source": [
        "在上面指定的项目中创建一个存储分区。"
      ]
    },
    {
      "cell_type": "code",
      "metadata": {
        "colab_type": "code",
        "id": "YFVbF4cdhd9Y",
        "outputId": "ffa2a4ec-ee02-4fc2-8ed4-a4d73d04e6be",
        "colab": {
          "base_uri": "https://localhost:8080/",
          "height": 35
        }
      },
      "source": [
        "# 使用与上述 gsutil 示例不同的全局唯一存储分区名称。\n",
        "import uuid\n",
        "bucket_name = 'colab-sample-bucket-' + str(uuid.uuid1())\n",
        "\n",
        "body = {\n",
        "  'name': bucket_name,\n",
        "  # For a full list of locations, see:\n",
        "  # https://cloud.google.com/storage/docs/bucket-locations\n",
        "  'location': 'us',\n",
        "}\n",
        "gcs_service.buckets().insert(project=project_id, body=body).execute()\n",
        "print('Done')"
      ],
      "execution_count": 0,
      "outputs": [
        {
          "output_type": "stream",
          "text": [
            "Done\n"
          ],
          "name": "stdout"
        }
      ]
    },
    {
      "cell_type": "markdown",
      "metadata": {
        "colab_type": "text",
        "id": "ppkrR7p4mx_P"
      },
      "source": [
        "将文件上传到新创建的存储分区。"
      ]
    },
    {
      "cell_type": "code",
      "metadata": {
        "colab_type": "code",
        "id": "cFAq-F2af5TJ",
        "outputId": "d07f7059-5767-4d58-ac71-e457a76e8c07",
        "colab": {
          "base_uri": "https://localhost:8080/",
          "height": 35
        }
      },
      "source": [
        "from googleapiclient.http import MediaFileUpload\n",
        "\n",
        "media = MediaFileUpload('/tmp/to_upload.txt', \n",
        "                        mimetype='text/plain',\n",
        "                        resumable=True)\n",
        "\n",
        "request = gcs_service.objects().insert(bucket=bucket_name, \n",
        "                                       name='to_upload.txt',\n",
        "                                       media_body=media)\n",
        "\n",
        "response = None\n",
        "while response is None:\n",
        "  # _ is a placeholder for a progress object that we ignore.\n",
        "  # (Our file is small, so we skip reporting progress.)\n",
        "  _, response = request.next_chunk()\n",
        "\n",
        "print('Upload complete')"
      ],
      "execution_count": 0,
      "outputs": [
        {
          "output_type": "stream",
          "text": [
            "Upload complete\n"
          ],
          "name": "stdout"
        }
      ]
    },
    {
      "cell_type": "code",
      "metadata": {
        "cellView": "form",
        "colab_type": "code",
        "id": "Lvz1BspfpvTl",
        "outputId": "97b483ac-c2b1-46f0-f4ac-61b3701a8c89",
        "colab": {
          "height": 34
        }
      },
      "source": [
        "#@markdown 上传完毕后，数据将显示在项目的 Cloud Console Storage 浏览器中：\n",
        "print('https://console.cloud.google.com/storage/browser?project=' + project_id)"
      ],
      "execution_count": 0,
      "outputs": [
        {
          "output_type": "stream",
          "text": [
            "https://console.cloud.google.com/storage/browser?project=Your_project_ID_here\n"
          ],
          "name": "stdout"
        }
      ]
    },
    {
      "cell_type": "markdown",
      "metadata": {
        "colab_type": "text",
        "id": "P6aWjfTv7bit"
      },
      "source": [
        "下载我们刚才上传的文件。"
      ]
    },
    {
      "cell_type": "code",
      "metadata": {
        "colab_type": "code",
        "id": "z1_FuDjAozF1",
        "outputId": "ab14cf25-7b51-41c9-d88c-9a94f5c79dfc",
        "colab": {
          "base_uri": "https://localhost:8080/",
          "height": 35
        }
      },
      "source": [
        "from apiclient.http import MediaIoBaseDownload\n",
        "\n",
        "with open('/tmp/downloaded_from_gcs.txt', 'wb') as f:\n",
        "  request = gcs_service.objects().get_media(bucket=bucket_name,\n",
        "                                            object='to_upload.txt')\n",
        "  media = MediaIoBaseDownload(f, request)\n",
        "\n",
        "  done = False\n",
        "  while not done:\n",
        "    # _ is a placeholder for a progress object that we ignore.\n",
        "    # (Our file is small, so we skip reporting progress.)\n",
        "    _, done = media.next_chunk()\n",
        "\n",
        "print('Download complete')"
      ],
      "execution_count": 0,
      "outputs": [
        {
          "output_type": "stream",
          "text": [
            "Download complete\n"
          ],
          "name": "stdout"
        }
      ]
    },
    {
      "cell_type": "markdown",
      "metadata": {
        "colab_type": "text",
        "id": "OnjWcDFogdY2"
      },
      "source": [
        "检查下载的文件。\n"
      ]
    },
    {
      "cell_type": "code",
      "metadata": {
        "colab_type": "code",
        "id": "DxLyhaiBpAGX",
        "outputId": "eb379e18-a6bf-4af2-caf4-f8b9c57f4a80",
        "colab": {
          "height": 34
        }
      },
      "source": [
        "!cat /tmp/downloaded_from_gcs.txt"
      ],
      "execution_count": 0,
      "outputs": [
        {
          "output_type": "stream",
          "text": [
            "my sample file"
          ],
          "name": "stdout"
        }
      ]
    }
  ]
}